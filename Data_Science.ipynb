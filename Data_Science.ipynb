{
  "nbformat": 4,
  "nbformat_minor": 0,
  "metadata": {
    "colab": {
      "provenance": [],
      "authorship_tag": "ABX9TyO+VPaVM5Uj92+tCVKMq6UU",
      "include_colab_link": true
    },
    "kernelspec": {
      "name": "python3",
      "display_name": "Python 3"
    },
    "language_info": {
      "name": "python"
    }
  },
  "cells": [
    {
      "cell_type": "markdown",
      "metadata": {
        "id": "view-in-github",
        "colab_type": "text"
      },
      "source": [
        "<a href=\"https://colab.research.google.com/github/Ashuralotus/Ashuralotus1/blob/main/Data_Science.ipynb\" target=\"_parent\"><img src=\"https://colab.research.google.com/assets/colab-badge.svg\" alt=\"Open In Colab\"/></a>"
      ]
    },
    {
      "cell_type": "code",
      "execution_count": 1,
      "metadata": {
        "colab": {
          "base_uri": "https://localhost:8080/"
        },
        "id": "XlcsqE9shCS3",
        "outputId": "2395ad07-0e4b-4384-e9af-236d958f4910"
      },
      "outputs": [
        {
          "output_type": "stream",
          "name": "stdout",
          "text": [
            "Requirement already satisfied: pandas in /usr/local/lib/python3.10/dist-packages (2.2.2)\n",
            "Requirement already satisfied: numpy>=1.22.4 in /usr/local/lib/python3.10/dist-packages (from pandas) (1.26.4)\n",
            "Requirement already satisfied: python-dateutil>=2.8.2 in /usr/local/lib/python3.10/dist-packages (from pandas) (2.8.2)\n",
            "Requirement already satisfied: pytz>=2020.1 in /usr/local/lib/python3.10/dist-packages (from pandas) (2024.2)\n",
            "Requirement already satisfied: tzdata>=2022.7 in /usr/local/lib/python3.10/dist-packages (from pandas) (2024.2)\n",
            "Requirement already satisfied: six>=1.5 in /usr/local/lib/python3.10/dist-packages (from python-dateutil>=2.8.2->pandas) (1.17.0)\n"
          ]
        }
      ],
      "source": [
        "pip install pandas"
      ]
    },
    {
      "cell_type": "code",
      "source": [
        "import kagglehub\n",
        "andrewmvd_udemy_courses_path = kagglehub.dataset_download('andrewmvd/udemy-courses')\n",
        "\n",
        "print('Data source import complete.')"
      ],
      "metadata": {
        "colab": {
          "base_uri": "https://localhost:8080/"
        },
        "id": "kkLa-yjDqsmU",
        "outputId": "956f608d-5d17-48d3-f91c-2dbc9080dfb8"
      },
      "execution_count": 13,
      "outputs": [
        {
          "output_type": "stream",
          "name": "stdout",
          "text": [
            "Warning: Looks like you're using an outdated `kagglehub` version (installed: 0.3.5), please consider upgrading to the latest version (0.3.6).\n",
            "Downloading from https://www.kaggle.com/api/v1/datasets/download/andrewmvd/udemy-courses?dataset_version_number=3...\n"
          ]
        },
        {
          "output_type": "stream",
          "name": "stderr",
          "text": [
            "100%|██████████| 200k/200k [00:00<00:00, 58.5MB/s]"
          ]
        },
        {
          "output_type": "stream",
          "name": "stdout",
          "text": [
            "Extracting files...\n",
            "Data source import complete.\n"
          ]
        },
        {
          "output_type": "stream",
          "name": "stderr",
          "text": [
            "\n"
          ]
        }
      ]
    },
    {
      "cell_type": "code",
      "source": [
        "import pandas as pd\n",
        "from matplotlib import pyplot as plt\n",
        "from scipy import stats\n",
        "from scipy.stats import pearsonr\n",
        "from sklearn.linear_model import LinearRegression"
      ],
      "metadata": {
        "id": "43exXLWArs4I"
      },
      "execution_count": 16,
      "outputs": []
    },
    {
      "cell_type": "code",
      "source": [
        "# read data\n",
        "courses_df = pd.read_csv('/content/sample_data/udemy_courses.csv') # Changed pd.read to pd.read_csv\n",
        "#general info of this data\n",
        "courses_df.info()"
      ],
      "metadata": {
        "colab": {
          "base_uri": "https://localhost:8080/"
        },
        "id": "DquBxmCsruuM",
        "outputId": "069d4237-0118-4c7d-95fe-9741714e64c7"
      },
      "execution_count": 20,
      "outputs": [
        {
          "output_type": "stream",
          "name": "stdout",
          "text": [
            "<class 'pandas.core.frame.DataFrame'>\n",
            "RangeIndex: 3678 entries, 0 to 3677\n",
            "Data columns (total 12 columns):\n",
            " #   Column               Non-Null Count  Dtype  \n",
            "---  ------               --------------  -----  \n",
            " 0   course_id            3678 non-null   int64  \n",
            " 1   course_title         3678 non-null   object \n",
            " 2   url                  3678 non-null   object \n",
            " 3   is_paid              3678 non-null   bool   \n",
            " 4   price                3678 non-null   int64  \n",
            " 5   num_subscribers      3678 non-null   int64  \n",
            " 6   num_reviews          3678 non-null   int64  \n",
            " 7   num_lectures         3678 non-null   int64  \n",
            " 8   level                3678 non-null   object \n",
            " 9   content_duration     3678 non-null   float64\n",
            " 10  published_timestamp  3678 non-null   object \n",
            " 11  subject              3678 non-null   object \n",
            "dtypes: bool(1), float64(1), int64(5), object(5)\n",
            "memory usage: 319.8+ KB\n"
          ]
        }
      ]
    },
    {
      "cell_type": "code",
      "source": [
        "# get the y-axis, y = num_subscriber\n",
        "temp_df1 = courses_df['num_subscribers']\n",
        "y1 = temp_df1.values\n",
        "\n",
        "# get the x-axis, x = num_reviews\n",
        "# x_reviews\n",
        "review_df = courses_df['num_reviews']\n",
        "x1 = review_df.values\n",
        "\n",
        "#draw scatter plot\n",
        "plt.xlabel('num_reviews')\n",
        "plt.xlabel('num_subscribers')\n",
        "plt.scatter(x1, y1)\n",
        "plt.show()"
      ],
      "metadata": {
        "colab": {
          "base_uri": "https://localhost:8080/",
          "height": 450
        },
        "id": "RuELlU7rtfme",
        "outputId": "a2387f40-0524-4559-b1a4-b2aeac5c2a20"
      },
      "execution_count": 21,
      "outputs": [
        {
          "output_type": "display_data",
          "data": {
            "text/plain": [
              "<Figure size 640x480 with 1 Axes>"
            ],
            "image/png": "[encoded data removed]"
          },
          "metadata": {}
        }
      ]
    },
    {
      "cell_type": "code",
      "source": [
        "# get the num_subcribers and num_reviews column\n",
        "temp_df2 = courses_df.iloc[:,[5,6]]\n",
        "\n",
        "# filter these two columns with num_reviews <= 10000\n",
        "filter_cols = temp_df2[temp_df2['num_reviews']<=10000]\n",
        "\n",
        "# get the new x,y axis after filter\n",
        "y1 = courses_df['num_subscribers'].values\n",
        "x1 = courses_df['num_reviews'].values\n",
        "\n",
        "# draw the trendline this time\n",
        "slope, intercept, r, p, std_err = stats.linregress(x1,y1)\n",
        "def myfunc(x1):\n",
        "    return slope * x1 + intercept\n",
        "\n",
        "mymodel = list(map(myfunc,x1))\n",
        "\n",
        "plt.plot(x1,mymodel)\n",
        "\n",
        "# draw scatter plot again\n",
        "plt.xlabel('num_reviews')\n",
        "plt.ylabel('num_subscribers')\n",
        "plt.scatter(x1,y1)\n",
        "plt.show()"
      ],
      "metadata": {
        "colab": {
          "base_uri": "https://localhost:8080/",
          "height": 450
        },
        "id": "zOS394dYy8KX",
        "outputId": "833bfcc1-645a-4a12-ed4e-26cf3f84227d"
      },
      "execution_count": 34,
      "outputs": [
        {
          "output_type": "display_data",
          "data": {
            "text/plain": [
              "<Figure size 640x480 with 1 Axes>"
            ],
            "image/png": "[encoded data removed]"
          },
          "metadata": {}
        }
      ]
    },
    {
      "cell_type": "code",
      "source": [
        "corr, _ = pearsonr(x1, y1)\n",
        "print ('Pearson\"s correlation: %.3f' % corr)\n",
        "      #we have a high positive correlation"
      ],
      "metadata": {
        "colab": {
          "base_uri": "https://localhost:8080/"
        },
        "id": "WjuHhaD8vQS8",
        "outputId": "5440d4af-9e0b-434a-d283-d3ad30cbbb72"
      },
      "execution_count": 26,
      "outputs": [
        {
          "output_type": "stream",
          "name": "stdout",
          "text": [
            "Pearson\"s correlation: 0.650\n"
          ]
        }
      ]
    },
    {
      "cell_type": "code",
      "source": [
        "# prepare x and y variables\n",
        "y1 = courses_df['num_subscribers'].values\n",
        "x1 = courses_df['num_reviews'].values.reshape(-1, 1)\n",
        "# building a regression model\n",
        "model = LinearRegression().fit(x1,y1)\n",
        "# round digits to two decimal places\n",
        "model_coef = float('%.2f' % model.coef_)\n",
        "model_intercept = float('%.2f' % model.intercept_)\n",
        "# modelling\n",
        "f'y = {model_coef}*x + {model_intercept}'\n"
      ],
      "metadata": {
        "collapsed": true,
        "colab": {
          "base_uri": "https://localhost:8080/",
          "height": 90
        },
        "id": "F83r0SZWwIB6",
        "outputId": "a4e92e35-3fe7-4943-d498-aad5c066eb77"
      },
      "execution_count": 30,
      "outputs": [
        {
          "output_type": "stream",
          "name": "stderr",
          "text": [
            "<ipython-input-30-cba60e058807>:7: DeprecationWarning: Conversion of an array with ndim > 0 to a scalar is deprecated, and will error in future. Ensure you extract a single element from your array before performing this operation. (Deprecated NumPy 1.25.)\n",
            "  model_coef = float('%.2f' % model.coef_)\n"
          ]
        },
        {
          "output_type": "execute_result",
          "data": {
            "text/plain": [
              "'y = 6.6*x + 2165.31'"
            ],
            "application/vnd.google.colaboratory.intrinsic+json": {
              "type": "string"
            }
          },
          "metadata": {},
          "execution_count": 30
        }
      ]
    },
    {
      "cell_type": "code",
      "source": [
        "# r-square value\n",
        "r_sq = model.score(x1,y1)\n",
        "r_sq = float('%.3f' % r_sq)\n",
        "f'r-square value:{r_sq}'\n",
        "\n",
        "# not very high r-square value"
      ],
      "metadata": {
        "colab": {
          "base_uri": "https://localhost:8080/",
          "height": 35
        },
        "id": "Tyos3sSTxHfA",
        "outputId": "b231e039-b27a-4c9e-8ab4-ef718899c3ef"
      },
      "execution_count": 32,
      "outputs": [
        {
          "output_type": "execute_result",
          "data": {
            "text/plain": [
              "'r-square value:0.422'"
            ],
            "application/vnd.google.colaboratory.intrinsic+json": {
              "type": "string"
            }
          },
          "metadata": {},
          "execution_count": 32
        }
      ]
    },
    {
      "cell_type": "code",
      "source": [],
      "metadata": {
        "id": "KMpFaRadyv0J"
      },
      "execution_count": null,
      "outputs": []
    }
  ]
}